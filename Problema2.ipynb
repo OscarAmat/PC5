{
 "cells": [
  {
   "cell_type": "markdown",
   "metadata": {},
   "source": [
    "# Problema2\n",
    "\n",
    "\n",
    "Lea el archivo 'winemag-data-130k-v2.csv' y realice lo siguiente:\n",
    "\n",
    "- Explore el dataframe según lo visto en clase\n",
    "- Realice al menos  4 renombre de columna y 3 creación de nuevas columnas según criterio. Deberá crear las columnas que crea conveniente. \n",
    "    Ejemplo: Según el país etiquetelos según continente.\n",
    "\n",
    "- Genere 4 reportes por agrupamiento de datos. Deberá elegir que reportes realizar\n",
    "    - Ejemplo: Por contienente mostrar los vinos mejor puntuados\n",
    "    - Ejemplo2: Promedio de precio de vino y cantidad de reviews obtenidos según pais. Ordenado de mejor a peor \n",
    "\n",
    "\n",
    "- Al menos uno de estos datos agrupados deberán ser almacenados en excel o csv\n",
    "   \n",
    "   Puede revisar esta solución https://stackoverflow.com/questions/25789264/pandas-dataframegroupby-export-to-excel\n",
    "\n",
    "\n",
    "\n",
    "### Datos \n",
    "\n",
    "winemag-data-130k-v2.csv\n",
    "- https://github.com/gdelgador/ProgramacionPython202401/blob/main/Modulo5/src/winemag-data-130k-v2.csv\n",
    "\n",
    "País según continente:\n",
    "- https://gist.githubusercontent.com/kintero/7d1db891401f56256c79/raw/a61f6d0dda82c3f04d2e6e76c3870552ef6cf0c6/paises.csv\n",
    " \n",
    "\n",
    "\n",
    "\n",
    "\n"
   ]
  },
  {
   "cell_type": "code",
   "execution_count": 9,
   "metadata": {},
   "outputs": [
    {
     "name": "stdout",
     "output_type": "stream",
     "text": [
      "Información DataFrame:\n",
      "<class 'pandas.core.frame.DataFrame'>\n",
      "RangeIndex: 65499 entries, 0 to 65498\n",
      "Data columns (total 14 columns):\n",
      " #   Column                 Non-Null Count  Dtype  \n",
      "---  ------                 --------------  -----  \n",
      " 0   Unnamed: 0             65499 non-null  int64  \n",
      " 1   country                65467 non-null  object \n",
      " 2   description            65499 non-null  object \n",
      " 3   designation            46588 non-null  object \n",
      " 4   points                 65499 non-null  int64  \n",
      " 5   price                  60829 non-null  float64\n",
      " 6   province               65467 non-null  object \n",
      " 7   region_1               54744 non-null  object \n",
      " 8   region_2               25170 non-null  object \n",
      " 9   taster_name            51856 non-null  object \n",
      " 10  taster_twitter_handle  49467 non-null  object \n",
      " 11  title                  65499 non-null  object \n",
      " 12  variety                65499 non-null  object \n",
      " 13  winery                 65499 non-null  object \n",
      "dtypes: float64(1), int64(2), object(11)\n",
      "memory usage: 7.0+ MB\n",
      "None\n"
     ]
    }
   ],
   "source": [
    "import pandas as pd\n",
    "\n",
    "\n",
    "df = pd.read_csv('/workspaces/PC5/data/winemag-data-130k-v2.csv')\n",
    "\n",
    "print(\"Información DataFrame:\")\n",
    "print(df.info())"
   ]
  },
  {
   "cell_type": "code",
   "execution_count": 10,
   "metadata": {},
   "outputs": [],
   "source": [
    "df = df.rename(columns={'description': 'descripcion', 'country': 'pais', 'price': 'precio', 'title': 'nombre', 'variety': 'variedad'})\n"
   ]
  },
  {
   "cell_type": "code",
   "execution_count": 11,
   "metadata": {},
   "outputs": [
    {
     "name": "stdout",
     "output_type": "stream",
     "text": [
      "<class 'pandas.core.frame.DataFrame'>\n",
      "RangeIndex: 65499 entries, 0 to 65498\n",
      "Data columns (total 14 columns):\n",
      " #   Column                 Non-Null Count  Dtype  \n",
      "---  ------                 --------------  -----  \n",
      " 0   Unnamed: 0             65499 non-null  int64  \n",
      " 1   pais                   65467 non-null  object \n",
      " 2   descripcion            65499 non-null  object \n",
      " 3   designation            46588 non-null  object \n",
      " 4   points                 65499 non-null  int64  \n",
      " 5   precio                 60829 non-null  float64\n",
      " 6   province               65467 non-null  object \n",
      " 7   region_1               54744 non-null  object \n",
      " 8   region_2               25170 non-null  object \n",
      " 9   taster_name            51856 non-null  object \n",
      " 10  taster_twitter_handle  49467 non-null  object \n",
      " 11  nombre                 65499 non-null  object \n",
      " 12  variedad               65499 non-null  object \n",
      " 13  winery                 65499 non-null  object \n",
      "dtypes: float64(1), int64(2), object(11)\n",
      "memory usage: 7.0+ MB\n",
      "None\n"
     ]
    }
   ],
   "source": [
    "print(df.info())\n"
   ]
  },
  {
   "cell_type": "code",
   "execution_count": 12,
   "metadata": {},
   "outputs": [
    {
     "name": "stdout",
     "output_type": "stream",
     "text": [
      "<class 'pandas.core.frame.DataFrame'>\n",
      "RangeIndex: 65499 entries, 0 to 65498\n",
      "Data columns (total 17 columns):\n",
      " #   Column                 Non-Null Count  Dtype  \n",
      "---  ------                 --------------  -----  \n",
      " 0   Unnamed: 0             65499 non-null  int64  \n",
      " 1   pais                   65467 non-null  object \n",
      " 2   descripcion            65499 non-null  object \n",
      " 3   designation            46588 non-null  object \n",
      " 4   points                 65499 non-null  int64  \n",
      " 5   precio                 60829 non-null  float64\n",
      " 6   province               65467 non-null  object \n",
      " 7   region_1               54744 non-null  object \n",
      " 8   region_2               25170 non-null  object \n",
      " 9   taster_name            51856 non-null  object \n",
      " 10  taster_twitter_handle  49467 non-null  object \n",
      " 11  nombre                 65499 non-null  object \n",
      " 12  variedad               65499 non-null  object \n",
      " 13  winery                 65499 non-null  object \n",
      " 14  puntuacion_provincia   65467 non-null  float64\n",
      " 15  variedades_provincia   65467 non-null  float64\n",
      " 16  vino_mas_caro          65464 non-null  float64\n",
      "dtypes: float64(4), int64(2), object(11)\n",
      "memory usage: 8.5+ MB\n",
      "None\n"
     ]
    }
   ],
   "source": [
    "df['puntuacion_provincia'] = df.groupby(['pais', 'province'])['points'].transform('mean')\n",
    "df['variedades_provincia'] = df.groupby(['pais', 'province'])['variedad'].transform('nunique')\n",
    "df['vino_mas_caro'] = df.groupby(['pais', 'province'])['precio'].transform('max')\n",
    "\n",
    "print(df.info())"
   ]
  },
  {
   "cell_type": "code",
   "execution_count": 13,
   "metadata": {},
   "outputs": [
    {
     "name": "stdout",
     "output_type": "stream",
     "text": [
      "\n",
      "Bodegas con mas vinos\n",
      "winery\n",
      "Wines & Winemakers    119\n",
      "Georges Duboeuf       116\n",
      "Testarossa            108\n",
      "DFJ Vinhos            101\n",
      "Louis Latour           98\n",
      "Name: count, dtype: int64\n",
      "\n",
      "Variedad de uva más cara por país\n",
      "                         pais                   variedad  precio\n",
      "61144               Argentina         Cabernet Sauvignon   230.0\n",
      "8170                  Armenia                    Kangoun    14.0\n",
      "56953               Australia                     Shiraz   850.0\n",
      "26404                 Austria           Rosenmuskateller   150.0\n",
      "16467  Bosnia and Herzegovina                     Vranec    13.0\n",
      "34202                  Brazil  Merlot-Cabernet Sauvignon    45.0\n",
      "47136                Bulgaria                  Red Blend    55.0\n",
      "12140                  Canada   Bordeaux-style Red Blend   120.0\n",
      "47148                   Chile                  Red Blend   400.0\n",
      "21228                 Croatia                Plavac Mali    65.0\n",
      "45270                  Cyprus                  Xynisteri    21.0\n",
      "7272           Czech Republic                  Red Blend    45.0\n",
      "27356                 England                 Pinot Noir    80.0\n",
      "15840                  France   Bordeaux-style Red Blend  2500.0\n",
      "29544                 Georgia                   Saperavi    40.0\n",
      "347                   Germany                   Riesling   775.0\n",
      "2115                   Greece                  Red Blend    79.0\n",
      "49326                 Hungary                    Furmint   764.0\n",
      "6673                    India                     Shiraz    20.0\n",
      "60264                  Israel   Bordeaux-style Red Blend   100.0\n",
      "44994                   Italy                   Nebbiolo   595.0\n",
      "4896                  Lebanon                  Red Blend    75.0\n",
      "48450              Luxembourg            Sparkling Blend    30.0\n",
      "38503               Macedonia                     Vranec    20.0\n",
      "26295                  Mexico                  Red Blend    58.0\n",
      "38920                 Moldova                White Blend    42.0\n",
      "61474                 Morocco             Syrah-Grenache    40.0\n",
      "710               New Zealand                 Pinot Noir   120.0\n",
      "37948                    Peru                  Red Blend    68.0\n",
      "36531                Portugal                       Port  1000.0\n",
      "44933                 Romania                     Merlot   100.0\n",
      "29284                  Serbia                  Red Blend    40.0\n",
      "22687                Slovakia                   Riesling    16.0\n",
      "37243                Slovenia      Merlot-Cabernet Franc    60.0\n",
      "9912             South Africa   Bordeaux-style Red Blend   330.0\n",
      "15846                   Spain                   Carignan   770.0\n",
      "21791             Switzerland                 Pinot Noir   160.0\n",
      "53157                  Turkey                     Merlot   120.0\n",
      "51978                      US                      Syrah   750.0\n",
      "19530                 Ukraine            Sparkling Blend    10.0\n",
      "38811                 Uruguay                     Tannat   120.0\n",
      "\n",
      "Provincias con mayor promedio de puntuación\n",
      "province\n",
      "Madeira        94.000000\n",
      "Mittelrhein    94.000000\n",
      "Santa Cruz     92.000000\n",
      "Tokaji         91.571429\n",
      "England        91.250000\n",
      "Name: points, dtype: float64\n"
     ]
    }
   ],
   "source": [
    "print(\"\\nBodegas con mas vinos\")\n",
    "reporte1 = df['winery'].value_counts().head(5)\n",
    "print(reporte1)\n",
    "\n",
    "print(\"\\nVariedad de uva más cara por país\")\n",
    "reporte2 = df.loc[df.groupby('pais')['precio'].idxmax()][['pais', 'variedad', 'precio']]\n",
    "print(reporte2)\n",
    "\n",
    "print(\"\\nProvincias con mayor promedio de puntuación\")\n",
    "reporte3 = df.groupby('province')['points'].mean().sort_values(ascending=False)\n",
    "print(reporte3.head())"
   ]
  },
  {
   "cell_type": "code",
   "execution_count": 18,
   "metadata": {},
   "outputs": [],
   "source": [
    "reporte_bodega = df['winery'].value_counts().head(5)\n",
    "\n",
    "reporte_bodega.to_csv('reporte_bodegas_mas_vinos.csv', header=True)\n"
   ]
  },
  {
   "cell_type": "code",
   "execution_count": 19,
   "metadata": {},
   "outputs": [],
   "source": [
    "reporte_variedad_uvas = df.loc[df.groupby('pais')['precio'].idxmax()][['pais', 'variedad', 'precio']]\n",
    "reporte_variedad_uvas.to_csv('reporte_variedad_uvas.csv', header=True)"
   ]
  }
 ],
 "metadata": {
  "kernelspec": {
   "display_name": "Python 3",
   "language": "python",
   "name": "python3"
  },
  "language_info": {
   "codemirror_mode": {
    "name": "ipython",
    "version": 3
   },
   "file_extension": ".py",
   "mimetype": "text/x-python",
   "name": "python",
   "nbconvert_exporter": "python",
   "pygments_lexer": "ipython3",
   "version": "3.10.13"
  }
 },
 "nbformat": 4,
 "nbformat_minor": 2
}
