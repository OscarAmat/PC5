{
 "cells": [
  {
   "cell_type": "code",
   "execution_count": 1,
   "metadata": {},
   "outputs": [
    {
     "name": "stderr",
     "output_type": "stream",
     "text": [
      "/tmp/ipykernel_35200/4080736814.py:1: DeprecationWarning: \n",
      "Pyarrow will become a required dependency of pandas in the next major release of pandas (pandas 3.0),\n",
      "(to allow more performant data types, such as the Arrow string type, and better interoperability with other libraries)\n",
      "but was not found to be installed on your system.\n",
      "If this would cause problems for you,\n",
      "please provide us feedback at https://github.com/pandas-dev/pandas/issues/54466\n",
      "        \n",
      "  import pandas as pd\n"
     ]
    }
   ],
   "source": [
    "import pandas as pd"
   ]
  },
  {
   "cell_type": "code",
   "execution_count": 2,
   "metadata": {},
   "outputs": [],
   "source": [
    "data=pd.read_excel('data/reactiva.xlsx',sheet_name=\"TRANSFERENCIAS 2020\",header=0)"
   ]
  },
  {
   "cell_type": "code",
   "execution_count": 3,
   "metadata": {},
   "outputs": [
    {
     "data": {
      "text/html": [
       "<div>\n",
       "<style scoped>\n",
       "    .dataframe tbody tr th:only-of-type {\n",
       "        vertical-align: middle;\n",
       "    }\n",
       "\n",
       "    .dataframe tbody tr th {\n",
       "        vertical-align: top;\n",
       "    }\n",
       "\n",
       "    .dataframe thead th {\n",
       "        text-align: right;\n",
       "    }\n",
       "</style>\n",
       "<table border=\"1\" class=\"dataframe\">\n",
       "  <thead>\n",
       "    <tr style=\"text-align: right;\">\n",
       "      <th></th>\n",
       "      <th>ID</th>\n",
       "      <th>CODIGO PAIS</th>\n",
       "      <th>CODIGO ENTIDAD</th>\n",
       "      <th>UBIGEO</th>\n",
       "      <th>SNIP</th>\n",
       "      <th>CUI</th>\n",
       "      <th>REGION</th>\n",
       "      <th>PROVINCIA</th>\n",
       "      <th>DISTRITO</th>\n",
       "      <th>PROYECTO</th>\n",
       "      <th>...</th>\n",
       "      <th>AMBITO</th>\n",
       "      <th>UNIDAD EJECUTORA</th>\n",
       "      <th>TOTAL EMPLEOS</th>\n",
       "      <th>POBLACION BENEFICIARIA</th>\n",
       "      <th>TIPOLOGIA</th>\n",
       "      <th>TIPO MONEDA</th>\n",
       "      <th>MONTO DE INVERSIÓN</th>\n",
       "      <th>TIPO MONEDA.1</th>\n",
       "      <th>MONTO DE TRANSFERENCIA 2020</th>\n",
       "      <th>ESTADO</th>\n",
       "    </tr>\n",
       "  </thead>\n",
       "  <tbody>\n",
       "    <tr>\n",
       "      <th>0</th>\n",
       "      <td>1</td>\n",
       "      <td>PE</td>\n",
       "      <td>11476</td>\n",
       "      <td>120127</td>\n",
       "      <td>346548</td>\n",
       "      <td>2307983</td>\n",
       "      <td>JUNIN</td>\n",
       "      <td>HUANCAYO</td>\n",
       "      <td>QUICHUAY</td>\n",
       "      <td>MEJORAMIENTO DE PISTAS Y VEREDAS EN LA CA. LIM...</td>\n",
       "      <td>...</td>\n",
       "      <td>URBANO</td>\n",
       "      <td>MUNICIPALIDAD DISTRITAL DE QUICHUAY</td>\n",
       "      <td>121</td>\n",
       "      <td>1529</td>\n",
       "      <td>Pista y Vereda</td>\n",
       "      <td>PEN</td>\n",
       "      <td>4105693.00</td>\n",
       "      <td>PEN</td>\n",
       "      <td>4105693</td>\n",
       "      <td>En Ejecución</td>\n",
       "    </tr>\n",
       "    <tr>\n",
       "      <th>1</th>\n",
       "      <td>2</td>\n",
       "      <td>PE</td>\n",
       "      <td>11476</td>\n",
       "      <td>90612</td>\n",
       "      <td>213528</td>\n",
       "      <td>2215425</td>\n",
       "      <td>HUANCAVELICA</td>\n",
       "      <td>HUAYTARA</td>\n",
       "      <td>SAN ISIDRO</td>\n",
       "      <td>MEJORAMIENTO VIAL DEL CERCADO DE LA LOCALIDAD ...</td>\n",
       "      <td>...</td>\n",
       "      <td>RURAL</td>\n",
       "      <td>MUNICIPALIDAD DISTRITAL DE SAN ISIDRO - HUIRPA...</td>\n",
       "      <td>63</td>\n",
       "      <td>648</td>\n",
       "      <td>Pista y Vereda</td>\n",
       "      <td>PEN</td>\n",
       "      <td>2120069.47</td>\n",
       "      <td>PEN</td>\n",
       "      <td>413572</td>\n",
       "      <td>En Ejecución</td>\n",
       "    </tr>\n",
       "    <tr>\n",
       "      <th>2</th>\n",
       "      <td>3</td>\n",
       "      <td>PE</td>\n",
       "      <td>11476</td>\n",
       "      <td>60501</td>\n",
       "      <td>321607</td>\n",
       "      <td>2276250</td>\n",
       "      <td>CAJAMARCA</td>\n",
       "      <td>CONTUMAZA</td>\n",
       "      <td>CONTUMAZA</td>\n",
       "      <td>CREACION DEL SERVICIO DE TRANSITABILIDAD VEHIC...</td>\n",
       "      <td>...</td>\n",
       "      <td>URBANO</td>\n",
       "      <td>MUNICIPALIDAD PROVINCIAL DE CONTUMAZA</td>\n",
       "      <td>92</td>\n",
       "      <td>645</td>\n",
       "      <td>Pista y Vereda</td>\n",
       "      <td>PEN</td>\n",
       "      <td>3157699.42</td>\n",
       "      <td>PEN</td>\n",
       "      <td>1219289</td>\n",
       "      <td>Concluido</td>\n",
       "    </tr>\n",
       "  </tbody>\n",
       "</table>\n",
       "<p>3 rows × 21 columns</p>\n",
       "</div>"
      ],
      "text/plain": [
       "   ID CODIGO PAIS  CODIGO ENTIDAD  UBIGEO    SNIP      CUI        REGION  \\\n",
       "0   1          PE           11476  120127  346548  2307983         JUNIN   \n",
       "1   2          PE           11476   90612  213528  2215425  HUANCAVELICA   \n",
       "2   3          PE           11476   60501  321607  2276250     CAJAMARCA   \n",
       "\n",
       "   PROVINCIA    DISTRITO                                           PROYECTO  \\\n",
       "0   HUANCAYO    QUICHUAY  MEJORAMIENTO DE PISTAS Y VEREDAS EN LA CA. LIM...   \n",
       "1   HUAYTARA  SAN ISIDRO  MEJORAMIENTO VIAL DEL CERCADO DE LA LOCALIDAD ...   \n",
       "2  CONTUMAZA   CONTUMAZA  CREACION DEL SERVICIO DE TRANSITABILIDAD VEHIC...   \n",
       "\n",
       "   ...  AMBITO                                   UNIDAD EJECUTORA  \\\n",
       "0  ...  URBANO                MUNICIPALIDAD DISTRITAL DE QUICHUAY   \n",
       "1  ...   RURAL  MUNICIPALIDAD DISTRITAL DE SAN ISIDRO - HUIRPA...   \n",
       "2  ...  URBANO              MUNICIPALIDAD PROVINCIAL DE CONTUMAZA   \n",
       "\n",
       "  TOTAL EMPLEOS  POBLACION BENEFICIARIA       TIPOLOGIA TIPO MONEDA  \\\n",
       "0           121                    1529  Pista y Vereda         PEN   \n",
       "1            63                     648  Pista y Vereda         PEN   \n",
       "2            92                     645  Pista y Vereda         PEN   \n",
       "\n",
       "  MONTO DE INVERSIÓN  TIPO MONEDA.1 MONTO DE TRANSFERENCIA 2020        ESTADO  \n",
       "0         4105693.00            PEN                     4105693  En Ejecución  \n",
       "1         2120069.47            PEN                      413572  En Ejecución  \n",
       "2         3157699.42            PEN                     1219289     Concluido  \n",
       "\n",
       "[3 rows x 21 columns]"
      ]
     },
     "execution_count": 3,
     "metadata": {},
     "output_type": "execute_result"
    }
   ],
   "source": [
    "data.head(3)"
   ]
  },
  {
   "cell_type": "code",
   "execution_count": 4,
   "metadata": {},
   "outputs": [
    {
     "data": {
      "text/plain": [
       "Index(['ID', 'CODIGO PAIS', 'CODIGO ENTIDAD', 'UBIGEO', 'SNIP', 'CUI',\n",
       "       'REGION', 'PROVINCIA', 'DISTRITO', 'PROYECTO', 'DISPOSITIVO LEGAL',\n",
       "       'AMBITO', 'UNIDAD EJECUTORA', 'TOTAL EMPLEOS', 'POBLACION BENEFICIARIA',\n",
       "       'TIPOLOGIA', 'TIPO MONEDA', 'MONTO DE INVERSIÓN', 'TIPO MONEDA.1',\n",
       "       'MONTO DE TRANSFERENCIA 2020', 'ESTADO'],\n",
       "      dtype='object')"
      ]
     },
     "execution_count": 4,
     "metadata": {},
     "output_type": "execute_result"
    }
   ],
   "source": [
    "data.columns"
   ]
  },
  {
   "cell_type": "code",
   "execution_count": 6,
   "metadata": {},
   "outputs": [
    {
     "name": "stdout",
     "output_type": "stream",
     "text": [
      "Collecting unidecode\n",
      "  Downloading Unidecode-1.3.8-py3-none-any.whl.metadata (13 kB)\n",
      "Downloading Unidecode-1.3.8-py3-none-any.whl (235 kB)\n",
      "\u001b[2K   \u001b[90m━━━━━━━━━━━━━━━━━━━━━━━━━━━━━━━━━━━━━━━━\u001b[0m \u001b[32m235.5/235.5 kB\u001b[0m \u001b[31m4.6 MB/s\u001b[0m eta \u001b[36m0:00:00\u001b[0mta \u001b[36m0:00:01\u001b[0m\n",
      "\u001b[?25hInstalling collected packages: unidecode\n",
      "Successfully installed unidecode-1.3.8\n"
     ]
    }
   ],
   "source": [
    "!pip install unidecode"
   ]
  },
  {
   "cell_type": "code",
   "execution_count": 12,
   "metadata": {},
   "outputs": [
    {
     "name": "stdout",
     "output_type": "stream",
     "text": [
      "Requirement already satisfied: pandas in /home/codespace/.local/lib/python3.10/site-packages (2.2.0)\n",
      "Collecting sqlalchemy\n",
      "  Downloading SQLAlchemy-2.0.27-cp310-cp310-manylinux_2_17_x86_64.manylinux2014_x86_64.whl.metadata (9.6 kB)\n",
      "Requirement already satisfied: numpy<2,>=1.22.4 in /home/codespace/.local/lib/python3.10/site-packages (from pandas) (1.26.4)\n",
      "Requirement already satisfied: python-dateutil>=2.8.2 in /home/codespace/.local/lib/python3.10/site-packages (from pandas) (2.8.2)\n",
      "Requirement already satisfied: pytz>=2020.1 in /home/codespace/.local/lib/python3.10/site-packages (from pandas) (2024.1)\n",
      "Requirement already satisfied: tzdata>=2022.7 in /home/codespace/.local/lib/python3.10/site-packages (from pandas) (2023.4)\n",
      "Requirement already satisfied: typing-extensions>=4.6.0 in /home/codespace/.local/lib/python3.10/site-packages (from sqlalchemy) (4.9.0)\n",
      "Collecting greenlet!=0.4.17 (from sqlalchemy)\n",
      "  Downloading greenlet-3.0.3-cp310-cp310-manylinux_2_24_x86_64.manylinux_2_28_x86_64.whl.metadata (3.8 kB)\n",
      "Requirement already satisfied: six>=1.5 in /home/codespace/.local/lib/python3.10/site-packages (from python-dateutil>=2.8.2->pandas) (1.16.0)\n",
      "Downloading SQLAlchemy-2.0.27-cp310-cp310-manylinux_2_17_x86_64.manylinux2014_x86_64.whl (3.1 MB)\n",
      "\u001b[2K   \u001b[90m━━━━━━━━━━━━━━━━━━━━━━━━━━━━━━━━━━━━━━━━\u001b[0m \u001b[32m3.1/3.1 MB\u001b[0m \u001b[31m31.7 MB/s\u001b[0m eta \u001b[36m0:00:00\u001b[0m00:01\u001b[0m00:01\u001b[0m\n",
      "\u001b[?25hDownloading greenlet-3.0.3-cp310-cp310-manylinux_2_24_x86_64.manylinux_2_28_x86_64.whl (616 kB)\n",
      "\u001b[2K   \u001b[90m━━━━━━━━━━━━━━━━━━━━━━━━━━━━━━━━━━━━━━━━\u001b[0m \u001b[32m616.0/616.0 kB\u001b[0m \u001b[31m15.5 MB/s\u001b[0m eta \u001b[36m0:00:00\u001b[0m00:01\u001b[0m\n",
      "\u001b[?25hInstalling collected packages: greenlet, sqlalchemy\n",
      "Successfully installed greenlet-3.0.3 sqlalchemy-2.0.27\n"
     ]
    }
   ],
   "source": [
    "!pip install pandas sqlalchemy"
   ]
  },
  {
   "cell_type": "code",
   "execution_count": 11,
   "metadata": {},
   "outputs": [
    {
     "name": "stdout",
     "output_type": "stream",
     "text": [
      "Index(['id', 'codigopais', 'codigoentidad', 'ubigeo', 'snip', 'cui', 'region',\n",
      "       'provincia', 'distrito', 'proyecto', 'dispositivolegal', 'ambito',\n",
      "       'unidadejecutora', 'totalempleos', 'poblacionbeneficiaria', 'tipologia',\n",
      "       'tipomoneda', 'montodeinversion', 'tipomoneda.1',\n",
      "       'montodetransferencia2020', 'estado'],\n",
      "      dtype='object')\n"
     ]
    }
   ],
   "source": [
    "from unidecode import unidecode\n",
    "\n",
    "def eliminar_tildes(texto):\n",
    "    return unidecode(texto)\n",
    "\n",
    "def clean_column_name(name):\n",
    "    \n",
    "    cleaned_name = name.replace(' ', '').lower()\n",
    "    return cleaned_name\n",
    "\n",
    "data.rename(columns=eliminar_tildes, inplace=True)\n",
    "data.rename(columns=clean_column_name, inplace=True)\n",
    "\n",
    "print(data.columns)"
   ]
  },
  {
   "cell_type": "code",
   "execution_count": null,
   "metadata": {},
   "outputs": [],
   "source": []
  }
 ],
 "metadata": {
  "kernelspec": {
   "display_name": "Python 3",
   "language": "python",
   "name": "python3"
  },
  "language_info": {
   "codemirror_mode": {
    "name": "ipython",
    "version": 3
   },
   "file_extension": ".py",
   "mimetype": "text/x-python",
   "name": "python",
   "nbconvert_exporter": "python",
   "pygments_lexer": "ipython3",
   "version": "3.10.13"
  }
 },
 "nbformat": 4,
 "nbformat_minor": 2
}
